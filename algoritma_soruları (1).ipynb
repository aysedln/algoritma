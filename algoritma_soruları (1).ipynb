{
 "cells": [
  {
   "cell_type": "code",
   "execution_count": 5,
   "id": "9ca17e11-3bce-432a-a856-f9ea41bdf6f0",
   "metadata": {},
   "outputs": [
    {
     "name": "stdin",
     "output_type": "stream",
     "text": [
      "Bir tam sayı giriniz  5\n",
      "Bir tam sayı giriniz  9\n"
     ]
    },
    {
     "name": "stdout",
     "output_type": "stream",
     "text": [
      "Sayıların toplamı:  14\n"
     ]
    }
   ],
   "source": [
    "# soru1\n",
    "sayi1 = int(input(\"Bir tam sayı giriniz \"))\n",
    "sayi2 = int(input(\"Bir tam sayı giriniz \"))\n",
    "toplam = sayi1 + sayi2\n",
    "print(\"Sayıların toplamı: \" , toplam)"
   ]
  },
  {
   "cell_type": "code",
   "execution_count": 17,
   "id": "315cb56f-5616-4946-b253-6450c839076c",
   "metadata": {},
   "outputs": [
    {
     "name": "stdin",
     "output_type": "stream",
     "text": [
      "Bir tam sayı giriniz:  0\n"
     ]
    },
    {
     "name": "stdout",
     "output_type": "stream",
     "text": [
      "Sıfır\n"
     ]
    }
   ],
   "source": [
    "#soru2  NOT:else içinde if kullanılabilir\n",
    "sayi = int(input(\"Bir tam sayı giriniz: \"))\n",
    "if sayi > 0 :\n",
    "    print(\"Pozitif\")\n",
    "else:\n",
    "    if sayi < 0 :\n",
    "        print(\"Negatif\")\n",
    "    else:\n",
    "        print(\"Sıfır\")\n"
   ]
  },
  {
   "cell_type": "code",
   "execution_count": 22,
   "id": "adc368fc-482a-4055-83d9-337c6bc8f614",
   "metadata": {},
   "outputs": [
    {
     "name": "stdin",
     "output_type": "stream",
     "text": [
      "Birinci sayıyı giriniz  56\n",
      "İkinci sayıyı giriniz  67\n",
      "Üçüncü sayıyı giriniz  88\n"
     ]
    },
    {
     "name": "stdout",
     "output_type": "stream",
     "text": [
      "En büyük tam sayı:  88\n"
     ]
    },
    {
     "name": "stdin",
     "output_type": "stream",
     "text": [
      " 33\n",
      " 45\n",
      " 36\n"
     ]
    },
    {
     "name": "stdout",
     "output_type": "stream",
     "text": [
      "En büyük sayı  45\n"
     ]
    }
   ],
   "source": [
    "#soru3\n",
    "sayi1 = int(input(\"Birinci sayıyı giriniz \"))\n",
    "sayi2 = int(input(\"İkinci sayıyı giriniz \"))\n",
    "sayi3 = int(input(\"Üçüncü sayıyı giriniz \"))\n",
    "if sayi1 >= sayi2 and sayi1 >= sayi3:\n",
    "    print(\"En büyük tam sayı: \" , sayi1)\n",
    "else: \n",
    "    if sayi2 >= sayi1 and sayi2 >= sayi3:\n",
    "        print(\"En büyük tam sayı: \" , sayi2)\n",
    "    else:\n",
    "        print(\"En büyük tam sayı: \" , sayi3)\n",
    "        \n",
    "#NOT: max() fonksiyonu en büyük sayıyı verir!\n",
    "sayi1 = input()\n",
    "sayi2 = input()\n",
    "sayi3 = input()\n",
    "en_buyuk = max(sayi1, sayi2, sayi3) \n",
    "print(\"En büyük sayı \" , en_buyuk)\n",
    "\n",
    "    \n"
   ]
  },
  {
   "cell_type": "code",
   "execution_count": 29,
   "id": "b93bfe24-d822-468a-a8ae-364c86319f9d",
   "metadata": {},
   "outputs": [
    {
     "name": "stdin",
     "output_type": "stream",
     "text": [
      "Bir tam sayı giriniz  9\n"
     ]
    },
    {
     "name": "stdout",
     "output_type": "stream",
     "text": [
      "Tek\n"
     ]
    }
   ],
   "source": [
    "#soru4\n",
    "sayi1 = int(input(\"Bir tam sayı giriniz \"))\n",
    "if sayi1 % 2 == 0: # == true ise işlemi yap !\n",
    "    print(\"Çift\")\n",
    "else:\n",
    "    print(\"Tek\")\n",
    "    "
   ]
  },
  {
   "cell_type": "code",
   "execution_count": 37,
   "id": "d0fa31ba-6a92-4986-8607-228f3332a89e",
   "metadata": {},
   "outputs": [
    {
     "name": "stdin",
     "output_type": "stream",
     "text": [
      "1-7 aralığında bir sayı giriniz:  7\n"
     ]
    },
    {
     "name": "stdout",
     "output_type": "stream",
     "text": [
      "Pazar\n"
     ]
    }
   ],
   "source": [
    "#soru5 NOT:match case alta geçmezse 4 boşluk bırakarak yaz.\n",
    "gun = str(input(\"1-7 aralığında bir sayı giriniz: \"))\n",
    "match gun:\n",
    "    case \"1\":\n",
    "        print(\"Pazartesi\")\n",
    "    case \"2\":\n",
    "        print(\"Salı\")\n",
    "    case \"3\":\n",
    "        print(\"Çarşamba\")\n",
    "    case \"4\":\n",
    "        print(\"Perşembe\")\n",
    "    case \"5\":\n",
    "        print(\"Cuma\")\n",
    "    case \"6\":\n",
    "        print(\"Cumartesi\")\n",
    "    case \"7\":\n",
    "        print(\"Pazar\")"
   ]
  },
  {
   "cell_type": "code",
   "execution_count": 50,
   "id": "97dd0937-f1da-4922-bb60-7911c6713acb",
   "metadata": {},
   "outputs": [
    {
     "name": "stdin",
     "output_type": "stream",
     "text": [
      "Birinci tam sayıyı giriniz:  98\n",
      "İkinci tam sayıyı giriniz:  90\n",
      "+, -, /, * işlemlerinden birini seçiniz:  /\n"
     ]
    },
    {
     "name": "stdout",
     "output_type": "stream",
     "text": [
      "98/90=1.0888888888888888\n"
     ]
    }
   ],
   "source": [
    "#soru6\n",
    "sayi1 = int(input(\"Birinci tam sayıyı giriniz: \"))\n",
    "sayi2 = int(input(\"İkinci tam sayıyı giriniz: \")) \n",
    "sonuc = input(\"+, -, /, * işlemlerinden birini seçiniz: \")\n",
    "match sonuc:\n",
    "    case \"+\":\n",
    "        print(str(sayi1) + \"+\" + str(sayi2) + \"=\" + str(sayi1 + sayi2))\n",
    "    case \"-\":\n",
    "        print(str(sayi1) + \"-\" + str(sayi2) + \"=\" + str(sayi1 - sayi2))\n",
    "    case \"*\":\n",
    "        print(str(sayi1) + \"*\" + str(sayi2) + \"=\" + str(sayi1 *sayi2))\n",
    "    case \"/\":\n",
    "        print(str(sayi1) + \"/\" + str(sayi2) + \"=\" + str(sayi1 / sayi2))"
   ]
  },
  {
   "cell_type": "code",
   "execution_count": 62,
   "id": "9e52021b-105f-486f-a54d-2636de6af984",
   "metadata": {},
   "outputs": [
    {
     "name": "stdin",
     "output_type": "stream",
     "text": [
      "Bir sayı giriniz:  7\n"
     ]
    },
    {
     "name": "stdout",
     "output_type": "stream",
     "text": [
      "1'den n'e kadar olan sayıların toplamı:  28\n"
     ]
    }
   ],
   "source": [
    "#soru7\n",
    "n = int(input(\"Bir sayı giriniz: \"))\n",
    "toplam = 0\n",
    "for i in range(1, n + 1):\n",
    "    toplam += i\n",
    "print(\"1'den n'e kadar olan sayıların toplamı: \" ,str(toplam))    \n",
    "    \n",
    "\n"
   ]
  },
  {
   "cell_type": "code",
   "execution_count": 1,
   "id": "06f67243-12ee-4934-b384-3f27d3b8b6b0",
   "metadata": {},
   "outputs": [
    {
     "name": "stdin",
     "output_type": "stream",
     "text": [
      "Bir sayı girin:  5\n"
     ]
    },
    {
     "name": "stdout",
     "output_type": "stream",
     "text": [
      "5*1=5\n",
      "5*2=10\n",
      "5*3=15\n",
      "5*4=20\n",
      "5*5=25\n",
      "5*6=30\n",
      "5*7=35\n",
      "5*8=40\n",
      "5*9=45\n",
      "5*10=50\n"
     ]
    }
   ],
   "source": [
    "#soru8\n",
    "sayi = int(input(\"Bir sayı girin: \"))\n",
    "for i in range(1, 11):\n",
    "    print(str(sayi) + \"*\" + str(i) + \"=\" + str(sayi * i))\n",
    "    "
   ]
  },
  {
   "cell_type": "code",
   "execution_count": null,
   "id": "545a3acf-59c8-4ba9-a8ec-1d53b8e4c3ab",
   "metadata": {},
   "outputs": [],
   "source": []
  }
 ],
 "metadata": {
  "kernelspec": {
   "display_name": "Python 3 (ipykernel)",
   "language": "python",
   "name": "python3"
  },
  "language_info": {
   "codemirror_mode": {
    "name": "ipython",
    "version": 3
   },
   "file_extension": ".py",
   "mimetype": "text/x-python",
   "name": "python",
   "nbconvert_exporter": "python",
   "pygments_lexer": "ipython3",
   "version": "3.12.7"
  }
 },
 "nbformat": 4,
 "nbformat_minor": 5
}
