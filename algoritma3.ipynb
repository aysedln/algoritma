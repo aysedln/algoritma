{
 "cells": [
  {
   "cell_type": "code",
   "execution_count": null,
   "id": "cf138f5c-7ac0-4194-8e32-228d31e42f85",
   "metadata": {},
   "outputs": [],
   "source": [
    "#soru12\n"
   ]
  },
  {
   "cell_type": "code",
   "execution_count": 2,
   "id": "bbe39c43-28df-4f8e-90b0-a174352c58ea",
   "metadata": {},
   "outputs": [
    {
     "name": "stdin",
     "output_type": "stream",
     "text": [
      "Bir tam sayı girin:  6\n"
     ]
    },
    {
     "name": "stdout",
     "output_type": "stream",
     "text": [
      "6 Fibonacci terimi:  8\n"
     ]
    }
   ],
   "source": [
    "#soru13\n",
    "n = int(input(\"Bir tam sayı girin: \"))\n",
    "# başlangıç belirle \n",
    "a, b = 1,1\n",
    "\n",
    "for  i in range(n -1):\n",
    "    a, b = b, a+b \n",
    "print(n, \"Fibonacci terimi: \" , a)"
   ]
  },
  {
   "cell_type": "code",
   "execution_count": 4,
   "id": "a18dbeb5-d140-4d46-8622-3163532a473a",
   "metadata": {},
   "outputs": [
    {
     "name": "stdin",
     "output_type": "stream",
     "text": [
      "Bir sayı girin:  5678\n"
     ]
    },
    {
     "name": "stdout",
     "output_type": "stream",
     "text": [
      "8765\n"
     ]
    }
   ],
   "source": [
    "#soru14 girilen sayıyı tersine çevirme\n",
    "sayi = int(input(\"Bir sayı girin: \"))\n",
    "reversed_sayi = 0\n",
    "while sayi != 0:\n",
    "    reversed_sayi = reversed_sayi * 10 + sayi % 10 \n",
    "    sayi = sayi // 10 \n",
    "print(reversed_sayi)\n"
   ]
  },
  {
   "cell_type": "code",
   "execution_count": 8,
   "id": "ab35d3fd-7752-4f90-9ad3-bb700fb5dc12",
   "metadata": {},
   "outputs": [
    {
     "name": "stdin",
     "output_type": "stream",
     "text": [
      "BİR SAYI GİRİN:  153\n"
     ]
    },
    {
     "name": "stdout",
     "output_type": "stream",
     "text": [
      "153 Bir amstrong sayısıdır.\n"
     ]
    }
   ],
   "source": [
    "#soru15 amstrong sayısı, sayının her bir rakamının basamak sayısı kadar kuvveti alındıktan sonra toplamı sayıya eşit olmalıdır.\n",
    "sayi = int(input(\"BİR SAYI GİRİN: \"))\n",
    "sayi1 = str(sayi)\n",
    "sayi_bas = len(sayi1)\n",
    "\n",
    "total = 0 #başlangıç noktası\n",
    "for i in sayi1:\n",
    "    total += int(i) ** sayi_bas\n",
    "if total == sayi:\n",
    "    print(sayi,\"Bir amstrong sayısıdır.\")\n",
    "else:\n",
    "    print(\"Amstrong sayısı değildir.\")"
   ]
  },
  {
   "cell_type": "code",
   "execution_count": 12,
   "id": "a154259b-b9be-4149-8b06-fe508be3f3e0",
   "metadata": {},
   "outputs": [
    {
     "name": "stdout",
     "output_type": "stream",
     "text": [
      "2550\n"
     ]
    }
   ],
   "source": [
    "#soru16 çift sayıların toplamı\n",
    "total = 0\n",
    "for i in range(1,101):\n",
    "    if i % 2 == 0:\n",
    "        total += i\n",
    "print(total)    \n",
    "    \n"
   ]
  },
  {
   "cell_type": "code",
   "execution_count": 14,
   "id": "e8746b3a-49f4-43e6-8028-fabd6bf0d58d",
   "metadata": {},
   "outputs": [
    {
     "name": "stdout",
     "output_type": "stream",
     "text": [
      "945\n"
     ]
    }
   ],
   "source": [
    "#soru17\n",
    "carpım = 1\n",
    "for i in range(1, 10):\n",
    "    if i % 2 == 1:\n",
    "        carpım *= i \n",
    "print(carpım)"
   ]
  },
  {
   "cell_type": "code",
   "execution_count": 16,
   "id": "cf317af4-f653-4438-8a76-ba65914e64ce",
   "metadata": {},
   "outputs": [
    {
     "name": "stdout",
     "output_type": "stream",
     "text": [
      "1 karesi: 1\n",
      "2 karesi: 4\n",
      "3 karesi: 9\n",
      "4 karesi: 16\n",
      "5 karesi: 25\n",
      "6 karesi: 36\n",
      "7 karesi: 49\n",
      "8 karesi: 64\n",
      "9 karesi: 81\n",
      "10 karesi: 100\n"
     ]
    }
   ],
   "source": [
    "#soru18\n",
    "\n",
    "for i in range(1, 11):\n",
    "    print(i, \"karesi:\", i*i)    \n",
    "            \n",
    "    \n"
   ]
  },
  {
   "cell_type": "code",
   "execution_count": null,
   "id": "dbccdc28-791c-489d-9716-4e479a1f064b",
   "metadata": {},
   "outputs": [],
   "source": []
  },
  {
   "cell_type": "code",
   "execution_count": 18,
   "id": "c6ddf967-d082-4c73-9526-de89acefa17a",
   "metadata": {},
   "outputs": [
    {
     "name": "stdin",
     "output_type": "stream",
     "text": [
      "Şifreyi giriniz:  python123\n"
     ]
    },
    {
     "name": "stdout",
     "output_type": "stream",
     "text": [
      "Giriş başarılı\n"
     ]
    }
   ],
   "source": [
    "#soru19\n",
    "sifre = \"python123\"\n",
    "giris = str(input(\"Şifreyi giriniz: \"))\n",
    "if giris == sifre:\n",
    "    print(\"Giriş başarılı\")\n",
    "else:\n",
    "    print(\"Tekrar deneyiniz\")\n"
   ]
  },
  {
   "cell_type": "code",
   "execution_count": 19,
   "id": "98e7a09f-553d-471a-9444-94345e117ff2",
   "metadata": {},
   "outputs": [
    {
     "name": "stdin",
     "output_type": "stream",
     "text": [
      "Yaşınızı giriniz:  56\n"
     ]
    },
    {
     "name": "stdout",
     "output_type": "stream",
     "text": [
      "Reşit\n"
     ]
    }
   ],
   "source": [
    "#soru20\n",
    "yas = int(input(\"Yaşınızı giriniz: \"))\n",
    "if yas > 18:\n",
    "    print(\"Reşit\")\n",
    "else: \n",
    "    print(\"Reşit değil!\")"
   ]
  },
  {
   "cell_type": "code",
   "execution_count": 22,
   "id": "5ab43f67-dc4c-4f0c-92d8-35d810d16257",
   "metadata": {},
   "outputs": [
    {
     "name": "stdin",
     "output_type": "stream",
     "text": [
      "1.notu girin:  44\n",
      "2.notu girin:  78\n",
      "3.notu girin:  67\n"
     ]
    },
    {
     "name": "stdout",
     "output_type": "stream",
     "text": [
      "Geçti\n"
     ]
    }
   ],
   "source": [
    "#soru21 not:if döngüsünü ayrı yaz!!!\n",
    "n = 3\n",
    "toplam = 0 #başlangıç \n",
    "for i in range(n):\n",
    "    puan = float(input(str(i + 1) + \".notu girin: \"))\n",
    "    toplam += puan\n",
    "if toplam // 3 >50:\n",
    "    print(\"Geçti\")\n",
    "else:\n",
    "    print(\"Kaldı\")"
   ]
  },
  {
   "cell_type": "code",
   "execution_count": 30,
   "id": "fcb30e3b-097e-48a3-9397-c30d0a040dd2",
   "metadata": {},
   "outputs": [
    {
     "name": "stdout",
     "output_type": "stream",
     "text": [
      "Dört işlem menüsüne hoş geldiniz!\n",
      "1. Toplama\n",
      "2. Çıkarma\n",
      "3. Bölme\n",
      "4. Çarpma\n"
     ]
    },
    {
     "name": "stdin",
     "output_type": "stream",
     "text": [
      "Bir işlem numarası girin:  3\n",
      "Birinci sayıyı girin:  45\n",
      "İkinci sayıyı girin:  56\n"
     ]
    },
    {
     "name": "stdout",
     "output_type": "stream",
     "text": [
      "45.0/56.0=0.8035714285714286\n"
     ]
    }
   ],
   "source": [
    "#soru23\n",
    "print(\"Dört işlem menüsüne hoş geldiniz!\")\n",
    "print(\"1. Toplama\")\n",
    "print(\"2. Çıkarma\")\n",
    "print(\"3. Bölme\")\n",
    "print(\"4. Çarpma\")\n",
    "secim = str(input(\"Bir işlem numarası girin: \"))\n",
    "sayi1 = float(input(\"Birinci sayıyı girin: \"))\n",
    "sayi2 = float(input(\"İkinci sayıyı girin: \"))\n",
    "\n",
    "match secim:\n",
    "    case \"1\":\n",
    "        #toplma\n",
    "        islem = sayi1 + sayi2 \n",
    "        print(str(sayi1) + str(\"+\") + str(sayi2) + str(\"=\") + str(islem))\n",
    "    case \"2\":\n",
    "         #çıkarma \n",
    "         islem = sayi1 - sayi2\n",
    "         print(str(sayi1) + str(\"-\") + str(sayi2) + str(\"=\") + str(islem))\n",
    "    case \"3\":\n",
    "        islem = sayi1 / sayi2\n",
    "        print(str(sayi1) + str(\"/\") + str(sayi2) + str(\"=\") + str(islem))\n",
    "    case \"4\":\n",
    "        islem = sayi * sayi2\n",
    "        print(str(sayi1) + str(\"*\") + str(sayi2) + str(\"=\") + str(islem))\n",
    "    \n",
    "        \n"
   ]
  },
  {
   "cell_type": "code",
   "execution_count": 34,
   "id": "2af83f46-7ec7-4e68-bc29-42c466b8ec1a",
   "metadata": {},
   "outputs": [
    {
     "name": "stdin",
     "output_type": "stream",
     "text": [
      "1.Sayıyı girin:  56\n",
      "2.Sayıyı girin:  98\n",
      "3.Sayıyı girin:  67\n",
      "4.Sayıyı girin:  23\n"
     ]
    },
    {
     "name": "stdout",
     "output_type": "stream",
     "text": [
      "En küçük sayı 23\n"
     ]
    }
   ],
   "source": [
    "#soru24\n",
    "sayi1 = int(input(\"1.Sayıyı girin: \"))\n",
    "sayi2 = int(input(\"2.Sayıyı girin: \"))\n",
    "sayi3 = int(input(\"3.Sayıyı girin: \"))\n",
    "sayi4 = int(input(\"4.Sayıyı girin: \"))\n",
    "\n",
    "if min(sayi1, sayi2, sayi3, sayi4) == sayi1:\n",
    "    print(\"En küçük sayı\",sayi1)\n",
    "if min(sayi1, sayi2, sayi3, sayi4) == sayi2:\n",
    "    print(\"En küçük sayı\",sayi2)\n",
    "if min (sayi1, sayi2, sayi3, sayi4) == sayi3:\n",
    "    print(\"En küçük sayı\",sayi3)\n",
    "else:\n",
    "    print(\"En küçük sayı\", sayi4)\n",
    "\n"
   ]
  },
  {
   "cell_type": "code",
   "execution_count": 53,
   "id": "da65b2f8-1c04-49f1-b82c-eb35d734e44d",
   "metadata": {},
   "outputs": [
    {
     "name": "stdin",
     "output_type": "stream",
     "text": [
      "1.sayıyı giriniz:  56\n",
      "2.sayıyı giriniz:  44\n",
      "3.sayıyı giriniz:  33\n"
     ]
    },
    {
     "name": "stdout",
     "output_type": "stream",
     "text": [
      "33 44 56\n"
     ]
    }
   ],
   "source": [
    "#soru25\n",
    "num1 = int(input(\"1.sayıyı giriniz: \")) \n",
    "num2 = int(input(\"2.sayıyı giriniz: \"))\n",
    "num3 = int(input(\"3.sayıyı giriniz: \"))\n",
    "if  num1 <= num2 and num1<= num3:\n",
    "    if num2<= num3:\n",
    "        print(num1, num2, num3)\n",
    "    else:\n",
    "        print(num1, num3, num2)\n",
    "elif num2 <= num1 and num2<= num3:\n",
    "    if num1 <= num3:\n",
    "        print(num2, num1, num3)\n",
    "    else:\n",
    "        print(num2, num3, num1)\n",
    "else:\n",
    "    if num1 <= num2:\n",
    "        print(num3, num1, num2)\n",
    "    else:\n",
    "        print(num3, num2, num1)\n",
    "        \n",
    "    "
   ]
  },
  {
   "cell_type": "code",
   "execution_count": null,
   "id": "53c19f06-fcad-44cc-88fb-bdb6838399b0",
   "metadata": {},
   "outputs": [],
   "source": [
    "#soru26\n"
   ]
  },
  {
   "cell_type": "code",
   "execution_count": 63,
   "id": "b98c02b1-13ed-4521-82c0-c320fcf8e235",
   "metadata": {},
   "outputs": [
    {
     "name": "stdout",
     "output_type": "stream",
     "text": [
      "120\n"
     ]
    }
   ],
   "source": [
    "#soru27 \n",
    "carpım = 1\n",
    "for i in range(1, 6):\n",
    "    carpım *= i\n",
    "print(carpım)    \n"
   ]
  },
  {
   "cell_type": "code",
   "execution_count": 61,
   "id": "4c75d051-7047-4dab-afab-0d12570e0406",
   "metadata": {},
   "outputs": [
    {
     "name": "stdout",
     "output_type": "stream",
     "text": [
      "385\n"
     ]
    }
   ],
   "source": [
    "#soru28\n",
    "total = 0 \n",
    "for i in range(1,11):\n",
    "    total += i ** 2\n",
    "print(total)\n",
    "    \n"
   ]
  },
  {
   "cell_type": "code",
   "execution_count": 64,
   "id": "c97edd11-8453-4821-9033-b51f3e3ad165",
   "metadata": {},
   "outputs": [
    {
     "name": "stdin",
     "output_type": "stream",
     "text": [
      "Bir tan sayı girin:  4\n"
     ]
    },
    {
     "name": "stdout",
     "output_type": "stream",
     "text": [
      "56\n"
     ]
    }
   ],
   "source": [
    "#soru29\n",
    "toplam = 0\n",
    "n = int(input(\"Bir tan sayı girin: \"))\n",
    "for i in(n, 2-n):\n",
    "    toplam += i ** 3\n",
    "print(toplam)    \n",
    "    "
   ]
  },
  {
   "cell_type": "code",
   "execution_count": 84,
   "id": "0a670207-e292-44c5-83fa-f33c59688f5d",
   "metadata": {},
   "outputs": [
    {
     "name": "stdout",
     "output_type": "stream",
     "text": [
      "15 30 45 60 75 90 tam bölünen sayılar: 7tane.\n"
     ]
    }
   ],
   "source": [
    "#soru30\n",
    "sayac = 1\n",
    "for i in range(1, 101):\n",
    "    if i % 3 == 0 and i % 5 == 0:\n",
    "        print( i, end=\" \")\n",
    "        sayac +=1\n",
    "print(\"tam bölünen sayılar: \" + str(sayac) + \"tane.\")        \n",
    "        "
   ]
  },
  {
   "cell_type": "code",
   "execution_count": 94,
   "id": "3097bb83-bb1f-41c9-acea-06fe5fb9bac6",
   "metadata": {},
   "outputs": [
    {
     "name": "stdin",
     "output_type": "stream",
     "text": [
      "Bir not girin:  99\n"
     ]
    },
    {
     "name": "stdout",
     "output_type": "stream",
     "text": [
      "A\n"
     ]
    }
   ],
   "source": [
    "#soru31\n",
    "puan = int(input(\"Bir not girin: \"))\n",
    "if 90<= puan <= 100:\n",
    "    print(\"A\")\n",
    "else:\n",
    "    if 80<= puan <=89:\n",
    "        print(\"B\")\n",
    "    else:\n",
    "        if 70<= puan <= 79:\n",
    "            print(\"C\")\n",
    "        else:\n",
    "            if 60<= puan<= 69:\n",
    "                print(\"D\")\n",
    "            else:\n",
    "                0 <= puan <= 59\n",
    "                print(\"F\")"
   ]
  },
  {
   "cell_type": "code",
   "execution_count": 98,
   "id": "980a9f72-a63a-43f1-806e-18b1ff956a4a",
   "metadata": {},
   "outputs": [
    {
     "name": "stdin",
     "output_type": "stream",
     "text": [
      "1.sayıyı giriniz:  23\n",
      "2.sayıyı girin:  45\n",
      "3.sayıyı girin:  45\n"
     ]
    },
    {
     "name": "stdout",
     "output_type": "stream",
     "text": [
      "İki sayı eşit\n"
     ]
    }
   ],
   "source": [
    "#soru32\n",
    "num1 = int(input(\"1.sayıyı giriniz: \"))\n",
    "num2 = int(input(\"2.sayıyı girin: \"))\n",
    "num3 = int(input(\"3.sayıyı girin: \"))\n",
    "if num1 == num2 == num3:\n",
    "    print(\"Tüm sayılar eşit\")\n",
    "elif num1 == num2 or num2== num3 or num1== num3:\n",
    "    print(\"İki sayı eşit\")\n",
    "else:\n",
    "    print(\"Sayılar eşit değil\")\n",
    "    "
   ]
  },
  {
   "cell_type": "code",
   "execution_count": 104,
   "id": "30e9a5c5-376e-46e7-938c-8c833612af11",
   "metadata": {},
   "outputs": [
    {
     "name": "stdin",
     "output_type": "stream",
     "text": [
      "Bir yıl girin:  1996\n"
     ]
    },
    {
     "name": "stdout",
     "output_type": "stream",
     "text": [
      "Artık yıl\n"
     ]
    }
   ],
   "source": [
    "#soru33\n",
    "yil = int(input(\"Bir yıl girin: \"))\n",
    "if yil % 4 == 0 and yil % 100 != 0:\n",
    "    print(\"Artık yıl\")\n",
    "elif yil % 400 == 0:\n",
    "    print(\"Artık yıl\")\n",
    "else:\n",
    "    print(\"Artık yıl değil.\")"
   ]
  },
  {
   "cell_type": "code",
   "execution_count": 121,
   "id": "1aa9b1f1-7e2a-4a86-baa1-70e48613ce5f",
   "metadata": {},
   "outputs": [
    {
     "name": "stdin",
     "output_type": "stream",
     "text": [
      "Boyunuzu metre olarak girin:  1.69\n",
      "Kilonuzu girin:  55\n"
     ]
    },
    {
     "name": "stdout",
     "output_type": "stream",
     "text": [
      "Normal\n"
     ]
    }
   ],
   "source": [
    "##### soru34\n",
    "boy = float(input(\"Boyunuzu metre olarak girin: \"))\n",
    "kilo = float(input(\"Kilonuzu girin: \"))\n",
    "karesi = boy ** 2\n",
    "bmi = kilo / karesi\n",
    "if bmi < 18.5:\n",
    "    print(\"Zayıf\")\n",
    "elif 18.5<= bmi < 25:\n",
    "    print(\"Normal\")\n",
    "elif 25<= bmi <30:\n",
    "    print(\"Fazla kilolu\")\n",
    "else:\n",
    "    print(\"Obez\")\n",
    "            \n",
    "            "
   ]
  },
  {
   "cell_type": "code",
   "execution_count": 128,
   "id": "77a74f89-c4df-4a2b-88ea-3ca26fd2f583",
   "metadata": {},
   "outputs": [
    {
     "name": "stdin",
     "output_type": "stream",
     "text": [
      "1.kenar uzunluğu girin:  6\n",
      "2.kenar uzunluğunu girin:  6\n",
      "3.kenar uzunluğu girin:  6\n"
     ]
    },
    {
     "name": "stdout",
     "output_type": "stream",
     "text": [
      "eşkenar\n"
     ]
    }
   ],
   "source": [
    "##### soru35\n",
    "a = float(input(\"1.kenar uzunluğu girin: \"))\n",
    "b = float(input(\"2.kenar uzunluğunu girin: \"))\n",
    "c = float(input(\"3.kenar uzunluğu girin: \"))\n",
    "if a + b > c and a + c > b and b + c > a:\n",
    "    if a==b==c:\n",
    "        print(\"eşkenar\")\n",
    "    elif a==b or b==c or a==c:\n",
    "        print(\"ikizkenar\")\n",
    "    else:\n",
    "        print(\"çeşit kenar\")\n",
    "else:\n",
    "    print(\"üçgen değil.\")"
   ]
  },
  {
   "cell_type": "code",
   "execution_count": 130,
   "id": "5455d5cd-c46d-426e-93eb-80d9ce3ff5d8",
   "metadata": {},
   "outputs": [
    {
     "name": "stdin",
     "output_type": "stream",
     "text": [
      "Yaşınızı girin:  19\n"
     ]
    },
    {
     "name": "stdout",
     "output_type": "stream",
     "text": [
      "15TL\n"
     ]
    }
   ],
   "source": [
    "# soru36\n",
    "yas = int(input(\"Yaşınızı girin: \"))\n",
    "if 0 < yas <=5:\n",
    "    print(\"Ücretsiz!!!\")\n",
    "elif 6 < yas <=18:\n",
    "    print(\"10TL\")\n",
    "elif 19 <yas <64:\n",
    "    print(\"20TL\")\n",
    "else:\n",
    "    print(\"15TL\")\n",
    "    "
   ]
  },
  {
   "cell_type": "code",
   "execution_count": 132,
   "id": "0c932bae-e297-4fdd-b8bc-6a0037cd5867",
   "metadata": {},
   "outputs": [
    {
     "name": "stdin",
     "output_type": "stream",
     "text": [
      "Hava nasıl? karlı\n",
      "Sıcaklık kaç derece? -1\n"
     ]
    },
    {
     "name": "stdout",
     "output_type": "stream",
     "text": [
      "Kayak yapmaya gidebilirsiniz\n"
     ]
    }
   ],
   "source": [
    "#SORU37\n",
    "hava = str(input(\"Hava nasıl?\"))\n",
    "sicaklik = float(input(\"Sıcaklık kaç derece?\"))\n",
    "if hava == \"güneşli\" and sicaklik >=25:\n",
    "    print(\"Piknik yapabilirsiniz\")\n",
    "elif hava == \"yağmurlu\":\n",
    "    print(\"şemsiye almayı unutmayın!!\")\n",
    "elif hava == \"karlı\" and sicaklik < 0:\n",
    "    print(\"Kayak yapmaya gidebilirsiniz\")\n",
    "else:\n",
    "    print(\"Evde kalabilirsiniz\")"
   ]
  },
  {
   "cell_type": "code",
   "execution_count": 134,
   "id": "7e8abf7d-4416-48a6-a09e-5aa1d2779d7b",
   "metadata": {},
   "outputs": [
    {
     "name": "stdin",
     "output_type": "stream",
     "text": [
      "Bir tam sayı girin:  4\n"
     ]
    },
    {
     "name": "stdout",
     "output_type": "stream",
     "text": [
      "Pozitif\n"
     ]
    }
   ],
   "source": [
    "#soru38\n",
    "sayi = int(input(\"Bir tam sayı girin: \"))\n",
    "if sayi > 0:\n",
    "    print(\"Pozitif\")\n",
    "elif sayi <0:\n",
    "    print(\"Negatif\")\n",
    "else:\n",
    "    print(\"Sıfır\")\n",
    "    \n"
   ]
  },
  {
   "cell_type": "code",
   "execution_count": 135,
   "id": "f6409360-adbe-4eab-97c5-55274515625a",
   "metadata": {},
   "outputs": [
    {
     "name": "stdin",
     "output_type": "stream",
     "text": [
      "1.sayıyı girin:  34\n",
      "2.sayıyı girin:  56\n"
     ]
    },
    {
     "name": "stdout",
     "output_type": "stream",
     "text": [
      "2.sayı büyük.\n"
     ]
    }
   ],
   "source": [
    "#soru39\n",
    "sayi = int(input(\"1.sayıyı girin: \"))\n",
    "sayi1 = int(input(\"2.sayıyı girin: \"))\n",
    "if sayi > sayi1:\n",
    "    print(\"Birinci sayı büyük.\")\n",
    "elif sayi < sayi1:\n",
    "    print(\"2.sayı büyük.\")\n",
    "else:\n",
    "    print(\"Sayılar eşit.\")"
   ]
  },
  {
   "cell_type": "code",
   "execution_count": 141,
   "id": "20372eba-3785-406a-ae5b-29068823ab1d",
   "metadata": {},
   "outputs": [
    {
     "name": "stdin",
     "output_type": "stream",
     "text": [
      "Bir tutar girin: 10000\n",
      "Üye misiniz?(üye/non üye) üye\n"
     ]
    },
    {
     "name": "stdout",
     "output_type": "stream",
     "text": [
      "indirimli tutar 9000.0\n"
     ]
    }
   ],
   "source": [
    "#soru40\n",
    "tutar = int(input(\"Bir tutar girin:\"))\n",
    "uye = str(input(\"Üye misiniz?(üye/non üye)\"))\n",
    "if \"üye\":\n",
    "    indirimli_tutar= tutar - (tutar/10)\n",
    "    print(\"indirimli tutar\",indirimli_tutar)\n",
    "else:\n",
    "    \"non üye\"\n",
    "    indirim= tutar -(tutar/20)\n",
    "    print(\"indirimli tutar\", indirim)\n",
    "    \n"
   ]
  },
  {
   "cell_type": "code",
   "execution_count": null,
   "id": "94776e22-2a25-4877-9c42-45bd04f23a08",
   "metadata": {},
   "outputs": [],
   "source": []
  }
 ],
 "metadata": {
  "kernelspec": {
   "display_name": "Python 3 (ipykernel)",
   "language": "python",
   "name": "python3"
  },
  "language_info": {
   "codemirror_mode": {
    "name": "ipython",
    "version": 3
   },
   "file_extension": ".py",
   "mimetype": "text/x-python",
   "name": "python",
   "nbconvert_exporter": "python",
   "pygments_lexer": "ipython3",
   "version": "3.12.7"
  }
 },
 "nbformat": 4,
 "nbformat_minor": 5
}
