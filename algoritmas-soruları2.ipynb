{
 "cells": [
  {
   "cell_type": "code",
   "execution_count": 4,
   "id": "235fd595-ed06-407e-8b69-c29f0c0ec663",
   "metadata": {},
   "outputs": [
    {
     "name": "stdin",
     "output_type": "stream",
     "text": [
      "1.sayıyı girin:  5\n",
      "2.sayıyı girin:  4\n",
      "3.sayıyı girin:  3\n",
      "4.sayıyı girin:  2\n",
      "5.sayıyı girin:  5\n"
     ]
    },
    {
     "name": "stdout",
     "output_type": "stream",
     "text": [
      "1.0\n"
     ]
    }
   ],
   "source": [
    "#soru9\n",
    "n = 5 \n",
    "toplam = 0\n",
    "for i in range(n):\n",
    "    sayi = float(input(str(i + 1) + \".sayıyı girin: \"))\n",
    "    toplam += sayi\n",
    "\n",
    "ortalama = sayi // 5\n",
    "print(ortalama)"
   ]
  },
  {
   "cell_type": "code",
   "execution_count": 6,
   "id": "01a80146-4f52-46a3-b11c-2e8cef557055",
   "metadata": {},
   "outputs": [
    {
     "name": "stdin",
     "output_type": "stream",
     "text": [
      "Bir sayı girin:  7\n"
     ]
    },
    {
     "name": "stdout",
     "output_type": "stream",
     "text": [
      "7 Sayı asaldır.\n"
     ]
    }
   ],
   "source": [
    "#soru10 \n",
    "sayi = int(input(\"Bir sayı girin: \"))\n",
    "if sayi < 2:\n",
    "    print(sayi, \"Sayı asal değildir.\")\n",
    "else:\n",
    "    for i in range(2 , sayi):\n",
    "        if sayi % i == 0:\n",
    "            print(sayi, \"Asal değildir\")\n",
    "            break\n",
    "    else:\n",
    "        print(sayi, \"Sayı asaldır.\")"
   ]
  },
  {
   "cell_type": "code",
   "execution_count": 24,
   "id": "211ee296-e448-4151-8503-1a1fc1945b30",
   "metadata": {},
   "outputs": [
    {
     "name": "stdin",
     "output_type": "stream",
     "text": [
      "Bir sayı giriniz:  6\n"
     ]
    },
    {
     "name": "stdout",
     "output_type": "stream",
     "text": [
      "720 Sayısının faktöriyeli \n"
     ]
    }
   ],
   "source": [
    "#soru11\n",
    "sayi= int(input(\"Bir sayı giriniz: \"))\n",
    "faktoriyel =  1 #başlangıç noktası\n",
    "\n",
    "while sayi > 0:\n",
    "    faktoriyel *= sayi\n",
    "    sayi -= 1\n",
    "   \n",
    "    \n",
    "print(faktoriyel , \"Sayısının faktöriyeli \")    "
   ]
  },
  {
   "cell_type": "code",
   "execution_count": null,
   "id": "03d3d5a5-c591-4430-a7cd-30827094218a",
   "metadata": {},
   "outputs": [],
   "source": []
  }
 ],
 "metadata": {
  "kernelspec": {
   "display_name": "Python 3 (ipykernel)",
   "language": "python",
   "name": "python3"
  },
  "language_info": {
   "codemirror_mode": {
    "name": "ipython",
    "version": 3
   },
   "file_extension": ".py",
   "mimetype": "text/x-python",
   "name": "python",
   "nbconvert_exporter": "python",
   "pygments_lexer": "ipython3",
   "version": "3.12.7"
  }
 },
 "nbformat": 4,
 "nbformat_minor": 5
}
